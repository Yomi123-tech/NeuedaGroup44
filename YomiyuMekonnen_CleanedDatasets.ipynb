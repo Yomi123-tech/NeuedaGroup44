{
 "cells": [
  {
   "cell_type": "code",
   "execution_count": 1,
   "id": "326bcec3-27f0-4852-9355-3be0e59aa08f",
   "metadata": {},
   "outputs": [],
   "source": [
    "import pandas as pd"
   ]
  },
  {
   "cell_type": "code",
   "execution_count": 2,
   "id": "891ddb0d-b967-4376-9e0d-56bdedf73bc5",
   "metadata": {},
   "outputs": [],
   "source": [
    "df = pd.read_csv('card_transdata.csv')"
   ]
  },
  {
   "cell_type": "code",
   "execution_count": 3,
   "id": "52841398-b8b3-4047-9a81-eed3ed262d4a",
   "metadata": {},
   "outputs": [
    {
     "data": {
      "text/html": [
       "<div>\n",
       "<style scoped>\n",
       "    .dataframe tbody tr th:only-of-type {\n",
       "        vertical-align: middle;\n",
       "    }\n",
       "\n",
       "    .dataframe tbody tr th {\n",
       "        vertical-align: top;\n",
       "    }\n",
       "\n",
       "    .dataframe thead th {\n",
       "        text-align: right;\n",
       "    }\n",
       "</style>\n",
       "<table border=\"1\" class=\"dataframe\">\n",
       "  <thead>\n",
       "    <tr style=\"text-align: right;\">\n",
       "      <th></th>\n",
       "      <th>distance_from_home</th>\n",
       "      <th>distance_from_last_transaction</th>\n",
       "      <th>ratio_to_median_purchase_price</th>\n",
       "      <th>repeat_retailer</th>\n",
       "      <th>used_chip</th>\n",
       "      <th>used_pin_number</th>\n",
       "      <th>online_order</th>\n",
       "      <th>fraud</th>\n",
       "    </tr>\n",
       "  </thead>\n",
       "  <tbody>\n",
       "    <tr>\n",
       "      <th>0</th>\n",
       "      <td>57.877857</td>\n",
       "      <td>0.311140</td>\n",
       "      <td>1.945940</td>\n",
       "      <td>1.0</td>\n",
       "      <td>1.0</td>\n",
       "      <td>0.0</td>\n",
       "      <td>0.0</td>\n",
       "      <td>0.0</td>\n",
       "    </tr>\n",
       "    <tr>\n",
       "      <th>1</th>\n",
       "      <td>10.829943</td>\n",
       "      <td>0.175592</td>\n",
       "      <td>1.294219</td>\n",
       "      <td>1.0</td>\n",
       "      <td>0.0</td>\n",
       "      <td>0.0</td>\n",
       "      <td>0.0</td>\n",
       "      <td>0.0</td>\n",
       "    </tr>\n",
       "    <tr>\n",
       "      <th>2</th>\n",
       "      <td>5.091079</td>\n",
       "      <td>0.805153</td>\n",
       "      <td>0.427715</td>\n",
       "      <td>1.0</td>\n",
       "      <td>0.0</td>\n",
       "      <td>0.0</td>\n",
       "      <td>1.0</td>\n",
       "      <td>0.0</td>\n",
       "    </tr>\n",
       "    <tr>\n",
       "      <th>3</th>\n",
       "      <td>2.247564</td>\n",
       "      <td>5.600044</td>\n",
       "      <td>0.362663</td>\n",
       "      <td>1.0</td>\n",
       "      <td>1.0</td>\n",
       "      <td>0.0</td>\n",
       "      <td>1.0</td>\n",
       "      <td>0.0</td>\n",
       "    </tr>\n",
       "    <tr>\n",
       "      <th>4</th>\n",
       "      <td>44.190936</td>\n",
       "      <td>0.566486</td>\n",
       "      <td>2.222767</td>\n",
       "      <td>1.0</td>\n",
       "      <td>1.0</td>\n",
       "      <td>0.0</td>\n",
       "      <td>1.0</td>\n",
       "      <td>0.0</td>\n",
       "    </tr>\n",
       "    <tr>\n",
       "      <th>...</th>\n",
       "      <td>...</td>\n",
       "      <td>...</td>\n",
       "      <td>...</td>\n",
       "      <td>...</td>\n",
       "      <td>...</td>\n",
       "      <td>...</td>\n",
       "      <td>...</td>\n",
       "      <td>...</td>\n",
       "    </tr>\n",
       "    <tr>\n",
       "      <th>999995</th>\n",
       "      <td>2.207101</td>\n",
       "      <td>0.112651</td>\n",
       "      <td>1.626798</td>\n",
       "      <td>1.0</td>\n",
       "      <td>1.0</td>\n",
       "      <td>0.0</td>\n",
       "      <td>0.0</td>\n",
       "      <td>0.0</td>\n",
       "    </tr>\n",
       "    <tr>\n",
       "      <th>999996</th>\n",
       "      <td>19.872726</td>\n",
       "      <td>2.683904</td>\n",
       "      <td>2.778303</td>\n",
       "      <td>1.0</td>\n",
       "      <td>1.0</td>\n",
       "      <td>0.0</td>\n",
       "      <td>0.0</td>\n",
       "      <td>0.0</td>\n",
       "    </tr>\n",
       "    <tr>\n",
       "      <th>999997</th>\n",
       "      <td>2.914857</td>\n",
       "      <td>1.472687</td>\n",
       "      <td>0.218075</td>\n",
       "      <td>1.0</td>\n",
       "      <td>1.0</td>\n",
       "      <td>0.0</td>\n",
       "      <td>1.0</td>\n",
       "      <td>0.0</td>\n",
       "    </tr>\n",
       "    <tr>\n",
       "      <th>999998</th>\n",
       "      <td>4.258729</td>\n",
       "      <td>0.242023</td>\n",
       "      <td>0.475822</td>\n",
       "      <td>1.0</td>\n",
       "      <td>0.0</td>\n",
       "      <td>0.0</td>\n",
       "      <td>1.0</td>\n",
       "      <td>0.0</td>\n",
       "    </tr>\n",
       "    <tr>\n",
       "      <th>999999</th>\n",
       "      <td>58.108125</td>\n",
       "      <td>0.318110</td>\n",
       "      <td>0.386920</td>\n",
       "      <td>1.0</td>\n",
       "      <td>1.0</td>\n",
       "      <td>0.0</td>\n",
       "      <td>1.0</td>\n",
       "      <td>0.0</td>\n",
       "    </tr>\n",
       "  </tbody>\n",
       "</table>\n",
       "<p>1000000 rows × 8 columns</p>\n",
       "</div>"
      ],
      "text/plain": [
       "        distance_from_home  distance_from_last_transaction   \n",
       "0                57.877857                        0.311140  \\\n",
       "1                10.829943                        0.175592   \n",
       "2                 5.091079                        0.805153   \n",
       "3                 2.247564                        5.600044   \n",
       "4                44.190936                        0.566486   \n",
       "...                    ...                             ...   \n",
       "999995            2.207101                        0.112651   \n",
       "999996           19.872726                        2.683904   \n",
       "999997            2.914857                        1.472687   \n",
       "999998            4.258729                        0.242023   \n",
       "999999           58.108125                        0.318110   \n",
       "\n",
       "        ratio_to_median_purchase_price  repeat_retailer  used_chip   \n",
       "0                             1.945940              1.0        1.0  \\\n",
       "1                             1.294219              1.0        0.0   \n",
       "2                             0.427715              1.0        0.0   \n",
       "3                             0.362663              1.0        1.0   \n",
       "4                             2.222767              1.0        1.0   \n",
       "...                                ...              ...        ...   \n",
       "999995                        1.626798              1.0        1.0   \n",
       "999996                        2.778303              1.0        1.0   \n",
       "999997                        0.218075              1.0        1.0   \n",
       "999998                        0.475822              1.0        0.0   \n",
       "999999                        0.386920              1.0        1.0   \n",
       "\n",
       "        used_pin_number  online_order  fraud  \n",
       "0                   0.0           0.0    0.0  \n",
       "1                   0.0           0.0    0.0  \n",
       "2                   0.0           1.0    0.0  \n",
       "3                   0.0           1.0    0.0  \n",
       "4                   0.0           1.0    0.0  \n",
       "...                 ...           ...    ...  \n",
       "999995              0.0           0.0    0.0  \n",
       "999996              0.0           0.0    0.0  \n",
       "999997              0.0           1.0    0.0  \n",
       "999998              0.0           1.0    0.0  \n",
       "999999              0.0           1.0    0.0  \n",
       "\n",
       "[1000000 rows x 8 columns]"
      ]
     },
     "execution_count": 3,
     "metadata": {},
     "output_type": "execute_result"
    }
   ],
   "source": [
    "df"
   ]
  },
  {
   "cell_type": "code",
   "execution_count": 4,
   "id": "e8130e10-01a5-4778-a429-96526268caf7",
   "metadata": {},
   "outputs": [],
   "source": [
    "df_fil = df.dropna(how='any')"
   ]
  },
  {
   "cell_type": "code",
   "execution_count": 5,
   "id": "d02d7da7-71b2-4f29-8ab9-fa3d4eeffb0a",
   "metadata": {},
   "outputs": [
    {
     "name": "stdout",
     "output_type": "stream",
     "text": [
      "        distance_from_home  distance_from_last_transaction   \n",
      "0                57.877857                        0.311140  \\\n",
      "1                10.829943                        0.175592   \n",
      "2                 5.091079                        0.805153   \n",
      "3                 2.247564                        5.600044   \n",
      "4                44.190936                        0.566486   \n",
      "...                    ...                             ...   \n",
      "999995            2.207101                        0.112651   \n",
      "999996           19.872726                        2.683904   \n",
      "999997            2.914857                        1.472687   \n",
      "999998            4.258729                        0.242023   \n",
      "999999           58.108125                        0.318110   \n",
      "\n",
      "        ratio_to_median_purchase_price  repeat_retailer  used_chip   \n",
      "0                             1.945940              1.0        1.0  \\\n",
      "1                             1.294219              1.0        0.0   \n",
      "2                             0.427715              1.0        0.0   \n",
      "3                             0.362663              1.0        1.0   \n",
      "4                             2.222767              1.0        1.0   \n",
      "...                                ...              ...        ...   \n",
      "999995                        1.626798              1.0        1.0   \n",
      "999996                        2.778303              1.0        1.0   \n",
      "999997                        0.218075              1.0        1.0   \n",
      "999998                        0.475822              1.0        0.0   \n",
      "999999                        0.386920              1.0        1.0   \n",
      "\n",
      "        used_pin_number  online_order  fraud  \n",
      "0                   0.0           0.0    0.0  \n",
      "1                   0.0           0.0    0.0  \n",
      "2                   0.0           1.0    0.0  \n",
      "3                   0.0           1.0    0.0  \n",
      "4                   0.0           1.0    0.0  \n",
      "...                 ...           ...    ...  \n",
      "999995              0.0           0.0    0.0  \n",
      "999996              0.0           0.0    0.0  \n",
      "999997              0.0           1.0    0.0  \n",
      "999998              0.0           1.0    0.0  \n",
      "999999              0.0           1.0    0.0  \n",
      "\n",
      "[1000000 rows x 8 columns]\n"
     ]
    }
   ],
   "source": [
    "print(df_fil)"
   ]
  },
  {
   "cell_type": "code",
   "execution_count": 6,
   "id": "9bea4c84-9bc2-4540-a2dc-be588fca21b9",
   "metadata": {},
   "outputs": [
    {
     "name": "stdout",
     "output_type": "stream",
     "text": [
      "This is the number of original rows before cleaning out NaN values 1000000\n"
     ]
    }
   ],
   "source": [
    "print(\"This is the number of original rows before cleaning out NaN values\", df.shape[0])"
   ]
  },
  {
   "cell_type": "code",
   "execution_count": 7,
   "id": "ba021157-42a4-4c60-92fa-d2ab634ee920",
   "metadata": {},
   "outputs": [
    {
     "name": "stdout",
     "output_type": "stream",
     "text": [
      "This is the number of original rows before cleaning out NaN values 1000000\n"
     ]
    }
   ],
   "source": [
    "print(\"This is the number of original rows before cleaning out NaN values\", df_fil.shape[0])"
   ]
  },
  {
   "cell_type": "code",
   "execution_count": 8,
   "id": "134153ac-bb15-4d24-9b79-c873e9805c2c",
   "metadata": {},
   "outputs": [],
   "source": [
    "pref_cols = ['distance_from_last_transaction','used_chip','fraud']"
   ]
  },
  {
   "cell_type": "code",
   "execution_count": 9,
   "id": "c6ed43f7-eb09-4ab2-ae28-25a8107e6cf4",
   "metadata": {},
   "outputs": [],
   "source": [
    "df_col_fil = df_fil[pref_cols]"
   ]
  },
  {
   "cell_type": "code",
   "execution_count": 10,
   "id": "7ff9f993-7092-48fc-8ede-936642e2a551",
   "metadata": {},
   "outputs": [
    {
     "data": {
      "text/html": [
       "<div>\n",
       "<style scoped>\n",
       "    .dataframe tbody tr th:only-of-type {\n",
       "        vertical-align: middle;\n",
       "    }\n",
       "\n",
       "    .dataframe tbody tr th {\n",
       "        vertical-align: top;\n",
       "    }\n",
       "\n",
       "    .dataframe thead th {\n",
       "        text-align: right;\n",
       "    }\n",
       "</style>\n",
       "<table border=\"1\" class=\"dataframe\">\n",
       "  <thead>\n",
       "    <tr style=\"text-align: right;\">\n",
       "      <th></th>\n",
       "      <th>distance_from_home</th>\n",
       "      <th>distance_from_last_transaction</th>\n",
       "      <th>ratio_to_median_purchase_price</th>\n",
       "      <th>repeat_retailer</th>\n",
       "      <th>used_chip</th>\n",
       "      <th>used_pin_number</th>\n",
       "      <th>online_order</th>\n",
       "      <th>fraud</th>\n",
       "    </tr>\n",
       "  </thead>\n",
       "  <tbody>\n",
       "    <tr>\n",
       "      <th>0</th>\n",
       "      <td>57.877857</td>\n",
       "      <td>0.311140</td>\n",
       "      <td>1.945940</td>\n",
       "      <td>1.0</td>\n",
       "      <td>1.0</td>\n",
       "      <td>0.0</td>\n",
       "      <td>0.0</td>\n",
       "      <td>0.0</td>\n",
       "    </tr>\n",
       "    <tr>\n",
       "      <th>1</th>\n",
       "      <td>10.829943</td>\n",
       "      <td>0.175592</td>\n",
       "      <td>1.294219</td>\n",
       "      <td>1.0</td>\n",
       "      <td>0.0</td>\n",
       "      <td>0.0</td>\n",
       "      <td>0.0</td>\n",
       "      <td>0.0</td>\n",
       "    </tr>\n",
       "    <tr>\n",
       "      <th>2</th>\n",
       "      <td>5.091079</td>\n",
       "      <td>0.805153</td>\n",
       "      <td>0.427715</td>\n",
       "      <td>1.0</td>\n",
       "      <td>0.0</td>\n",
       "      <td>0.0</td>\n",
       "      <td>1.0</td>\n",
       "      <td>0.0</td>\n",
       "    </tr>\n",
       "    <tr>\n",
       "      <th>3</th>\n",
       "      <td>2.247564</td>\n",
       "      <td>5.600044</td>\n",
       "      <td>0.362663</td>\n",
       "      <td>1.0</td>\n",
       "      <td>1.0</td>\n",
       "      <td>0.0</td>\n",
       "      <td>1.0</td>\n",
       "      <td>0.0</td>\n",
       "    </tr>\n",
       "    <tr>\n",
       "      <th>4</th>\n",
       "      <td>44.190936</td>\n",
       "      <td>0.566486</td>\n",
       "      <td>2.222767</td>\n",
       "      <td>1.0</td>\n",
       "      <td>1.0</td>\n",
       "      <td>0.0</td>\n",
       "      <td>1.0</td>\n",
       "      <td>0.0</td>\n",
       "    </tr>\n",
       "    <tr>\n",
       "      <th>...</th>\n",
       "      <td>...</td>\n",
       "      <td>...</td>\n",
       "      <td>...</td>\n",
       "      <td>...</td>\n",
       "      <td>...</td>\n",
       "      <td>...</td>\n",
       "      <td>...</td>\n",
       "      <td>...</td>\n",
       "    </tr>\n",
       "    <tr>\n",
       "      <th>999995</th>\n",
       "      <td>2.207101</td>\n",
       "      <td>0.112651</td>\n",
       "      <td>1.626798</td>\n",
       "      <td>1.0</td>\n",
       "      <td>1.0</td>\n",
       "      <td>0.0</td>\n",
       "      <td>0.0</td>\n",
       "      <td>0.0</td>\n",
       "    </tr>\n",
       "    <tr>\n",
       "      <th>999996</th>\n",
       "      <td>19.872726</td>\n",
       "      <td>2.683904</td>\n",
       "      <td>2.778303</td>\n",
       "      <td>1.0</td>\n",
       "      <td>1.0</td>\n",
       "      <td>0.0</td>\n",
       "      <td>0.0</td>\n",
       "      <td>0.0</td>\n",
       "    </tr>\n",
       "    <tr>\n",
       "      <th>999997</th>\n",
       "      <td>2.914857</td>\n",
       "      <td>1.472687</td>\n",
       "      <td>0.218075</td>\n",
       "      <td>1.0</td>\n",
       "      <td>1.0</td>\n",
       "      <td>0.0</td>\n",
       "      <td>1.0</td>\n",
       "      <td>0.0</td>\n",
       "    </tr>\n",
       "    <tr>\n",
       "      <th>999998</th>\n",
       "      <td>4.258729</td>\n",
       "      <td>0.242023</td>\n",
       "      <td>0.475822</td>\n",
       "      <td>1.0</td>\n",
       "      <td>0.0</td>\n",
       "      <td>0.0</td>\n",
       "      <td>1.0</td>\n",
       "      <td>0.0</td>\n",
       "    </tr>\n",
       "    <tr>\n",
       "      <th>999999</th>\n",
       "      <td>58.108125</td>\n",
       "      <td>0.318110</td>\n",
       "      <td>0.386920</td>\n",
       "      <td>1.0</td>\n",
       "      <td>1.0</td>\n",
       "      <td>0.0</td>\n",
       "      <td>1.0</td>\n",
       "      <td>0.0</td>\n",
       "    </tr>\n",
       "  </tbody>\n",
       "</table>\n",
       "<p>1000000 rows × 8 columns</p>\n",
       "</div>"
      ],
      "text/plain": [
       "        distance_from_home  distance_from_last_transaction   \n",
       "0                57.877857                        0.311140  \\\n",
       "1                10.829943                        0.175592   \n",
       "2                 5.091079                        0.805153   \n",
       "3                 2.247564                        5.600044   \n",
       "4                44.190936                        0.566486   \n",
       "...                    ...                             ...   \n",
       "999995            2.207101                        0.112651   \n",
       "999996           19.872726                        2.683904   \n",
       "999997            2.914857                        1.472687   \n",
       "999998            4.258729                        0.242023   \n",
       "999999           58.108125                        0.318110   \n",
       "\n",
       "        ratio_to_median_purchase_price  repeat_retailer  used_chip   \n",
       "0                             1.945940              1.0        1.0  \\\n",
       "1                             1.294219              1.0        0.0   \n",
       "2                             0.427715              1.0        0.0   \n",
       "3                             0.362663              1.0        1.0   \n",
       "4                             2.222767              1.0        1.0   \n",
       "...                                ...              ...        ...   \n",
       "999995                        1.626798              1.0        1.0   \n",
       "999996                        2.778303              1.0        1.0   \n",
       "999997                        0.218075              1.0        1.0   \n",
       "999998                        0.475822              1.0        0.0   \n",
       "999999                        0.386920              1.0        1.0   \n",
       "\n",
       "        used_pin_number  online_order  fraud  \n",
       "0                   0.0           0.0    0.0  \n",
       "1                   0.0           0.0    0.0  \n",
       "2                   0.0           1.0    0.0  \n",
       "3                   0.0           1.0    0.0  \n",
       "4                   0.0           1.0    0.0  \n",
       "...                 ...           ...    ...  \n",
       "999995              0.0           0.0    0.0  \n",
       "999996              0.0           0.0    0.0  \n",
       "999997              0.0           1.0    0.0  \n",
       "999998              0.0           1.0    0.0  \n",
       "999999              0.0           1.0    0.0  \n",
       "\n",
       "[1000000 rows x 8 columns]"
      ]
     },
     "execution_count": 10,
     "metadata": {},
     "output_type": "execute_result"
    }
   ],
   "source": [
    "df"
   ]
  },
  {
   "cell_type": "code",
   "execution_count": 11,
   "id": "d750fb5a-9838-4c1e-828c-3d7fbfdfe4ca",
   "metadata": {},
   "outputs": [
    {
     "data": {
      "text/html": [
       "<div>\n",
       "<style scoped>\n",
       "    .dataframe tbody tr th:only-of-type {\n",
       "        vertical-align: middle;\n",
       "    }\n",
       "\n",
       "    .dataframe tbody tr th {\n",
       "        vertical-align: top;\n",
       "    }\n",
       "\n",
       "    .dataframe thead th {\n",
       "        text-align: right;\n",
       "    }\n",
       "</style>\n",
       "<table border=\"1\" class=\"dataframe\">\n",
       "  <thead>\n",
       "    <tr style=\"text-align: right;\">\n",
       "      <th></th>\n",
       "      <th>distance_from_last_transaction</th>\n",
       "      <th>used_chip</th>\n",
       "      <th>fraud</th>\n",
       "    </tr>\n",
       "  </thead>\n",
       "  <tbody>\n",
       "    <tr>\n",
       "      <th>0</th>\n",
       "      <td>0.311140</td>\n",
       "      <td>1.0</td>\n",
       "      <td>0.0</td>\n",
       "    </tr>\n",
       "    <tr>\n",
       "      <th>1</th>\n",
       "      <td>0.175592</td>\n",
       "      <td>0.0</td>\n",
       "      <td>0.0</td>\n",
       "    </tr>\n",
       "    <tr>\n",
       "      <th>2</th>\n",
       "      <td>0.805153</td>\n",
       "      <td>0.0</td>\n",
       "      <td>0.0</td>\n",
       "    </tr>\n",
       "    <tr>\n",
       "      <th>3</th>\n",
       "      <td>5.600044</td>\n",
       "      <td>1.0</td>\n",
       "      <td>0.0</td>\n",
       "    </tr>\n",
       "    <tr>\n",
       "      <th>4</th>\n",
       "      <td>0.566486</td>\n",
       "      <td>1.0</td>\n",
       "      <td>0.0</td>\n",
       "    </tr>\n",
       "    <tr>\n",
       "      <th>...</th>\n",
       "      <td>...</td>\n",
       "      <td>...</td>\n",
       "      <td>...</td>\n",
       "    </tr>\n",
       "    <tr>\n",
       "      <th>999995</th>\n",
       "      <td>0.112651</td>\n",
       "      <td>1.0</td>\n",
       "      <td>0.0</td>\n",
       "    </tr>\n",
       "    <tr>\n",
       "      <th>999996</th>\n",
       "      <td>2.683904</td>\n",
       "      <td>1.0</td>\n",
       "      <td>0.0</td>\n",
       "    </tr>\n",
       "    <tr>\n",
       "      <th>999997</th>\n",
       "      <td>1.472687</td>\n",
       "      <td>1.0</td>\n",
       "      <td>0.0</td>\n",
       "    </tr>\n",
       "    <tr>\n",
       "      <th>999998</th>\n",
       "      <td>0.242023</td>\n",
       "      <td>0.0</td>\n",
       "      <td>0.0</td>\n",
       "    </tr>\n",
       "    <tr>\n",
       "      <th>999999</th>\n",
       "      <td>0.318110</td>\n",
       "      <td>1.0</td>\n",
       "      <td>0.0</td>\n",
       "    </tr>\n",
       "  </tbody>\n",
       "</table>\n",
       "<p>1000000 rows × 3 columns</p>\n",
       "</div>"
      ],
      "text/plain": [
       "        distance_from_last_transaction  used_chip  fraud\n",
       "0                             0.311140        1.0    0.0\n",
       "1                             0.175592        0.0    0.0\n",
       "2                             0.805153        0.0    0.0\n",
       "3                             5.600044        1.0    0.0\n",
       "4                             0.566486        1.0    0.0\n",
       "...                                ...        ...    ...\n",
       "999995                        0.112651        1.0    0.0\n",
       "999996                        2.683904        1.0    0.0\n",
       "999997                        1.472687        1.0    0.0\n",
       "999998                        0.242023        0.0    0.0\n",
       "999999                        0.318110        1.0    0.0\n",
       "\n",
       "[1000000 rows x 3 columns]"
      ]
     },
     "execution_count": 11,
     "metadata": {},
     "output_type": "execute_result"
    }
   ],
   "source": [
    "df_col_fil"
   ]
  },
  {
   "cell_type": "code",
   "execution_count": 12,
   "id": "a4f6ae84-f72a-4ab1-af01-41cb7829a684",
   "metadata": {},
   "outputs": [],
   "source": [
    "df_pin = df[df['used_chip'] == 0]"
   ]
  },
  {
   "cell_type": "code",
   "execution_count": 13,
   "id": "5508c1e0-01cd-4c9c-bcc1-845b0ad60052",
   "metadata": {},
   "outputs": [
    {
     "data": {
      "text/html": [
       "<div>\n",
       "<style scoped>\n",
       "    .dataframe tbody tr th:only-of-type {\n",
       "        vertical-align: middle;\n",
       "    }\n",
       "\n",
       "    .dataframe tbody tr th {\n",
       "        vertical-align: top;\n",
       "    }\n",
       "\n",
       "    .dataframe thead th {\n",
       "        text-align: right;\n",
       "    }\n",
       "</style>\n",
       "<table border=\"1\" class=\"dataframe\">\n",
       "  <thead>\n",
       "    <tr style=\"text-align: right;\">\n",
       "      <th></th>\n",
       "      <th>distance_from_home</th>\n",
       "      <th>distance_from_last_transaction</th>\n",
       "      <th>ratio_to_median_purchase_price</th>\n",
       "      <th>repeat_retailer</th>\n",
       "      <th>used_chip</th>\n",
       "      <th>used_pin_number</th>\n",
       "      <th>online_order</th>\n",
       "      <th>fraud</th>\n",
       "    </tr>\n",
       "  </thead>\n",
       "  <tbody>\n",
       "    <tr>\n",
       "      <th>1</th>\n",
       "      <td>10.829943</td>\n",
       "      <td>0.175592</td>\n",
       "      <td>1.294219</td>\n",
       "      <td>1.0</td>\n",
       "      <td>0.0</td>\n",
       "      <td>0.0</td>\n",
       "      <td>0.0</td>\n",
       "      <td>0.0</td>\n",
       "    </tr>\n",
       "    <tr>\n",
       "      <th>2</th>\n",
       "      <td>5.091079</td>\n",
       "      <td>0.805153</td>\n",
       "      <td>0.427715</td>\n",
       "      <td>1.0</td>\n",
       "      <td>0.0</td>\n",
       "      <td>0.0</td>\n",
       "      <td>1.0</td>\n",
       "      <td>0.0</td>\n",
       "    </tr>\n",
       "    <tr>\n",
       "      <th>5</th>\n",
       "      <td>5.586408</td>\n",
       "      <td>13.261073</td>\n",
       "      <td>0.064768</td>\n",
       "      <td>1.0</td>\n",
       "      <td>0.0</td>\n",
       "      <td>0.0</td>\n",
       "      <td>0.0</td>\n",
       "      <td>0.0</td>\n",
       "    </tr>\n",
       "    <tr>\n",
       "      <th>6</th>\n",
       "      <td>3.724019</td>\n",
       "      <td>0.956838</td>\n",
       "      <td>0.278465</td>\n",
       "      <td>1.0</td>\n",
       "      <td>0.0</td>\n",
       "      <td>0.0</td>\n",
       "      <td>1.0</td>\n",
       "      <td>0.0</td>\n",
       "    </tr>\n",
       "    <tr>\n",
       "      <th>7</th>\n",
       "      <td>4.848247</td>\n",
       "      <td>0.320735</td>\n",
       "      <td>1.273050</td>\n",
       "      <td>1.0</td>\n",
       "      <td>0.0</td>\n",
       "      <td>1.0</td>\n",
       "      <td>0.0</td>\n",
       "      <td>0.0</td>\n",
       "    </tr>\n",
       "    <tr>\n",
       "      <th>...</th>\n",
       "      <td>...</td>\n",
       "      <td>...</td>\n",
       "      <td>...</td>\n",
       "      <td>...</td>\n",
       "      <td>...</td>\n",
       "      <td>...</td>\n",
       "      <td>...</td>\n",
       "      <td>...</td>\n",
       "    </tr>\n",
       "    <tr>\n",
       "      <th>999991</th>\n",
       "      <td>26.807213</td>\n",
       "      <td>0.102574</td>\n",
       "      <td>2.746114</td>\n",
       "      <td>1.0</td>\n",
       "      <td>0.0</td>\n",
       "      <td>0.0</td>\n",
       "      <td>1.0</td>\n",
       "      <td>0.0</td>\n",
       "    </tr>\n",
       "    <tr>\n",
       "      <th>999992</th>\n",
       "      <td>9.844674</td>\n",
       "      <td>0.250108</td>\n",
       "      <td>0.814046</td>\n",
       "      <td>1.0</td>\n",
       "      <td>0.0</td>\n",
       "      <td>0.0</td>\n",
       "      <td>1.0</td>\n",
       "      <td>0.0</td>\n",
       "    </tr>\n",
       "    <tr>\n",
       "      <th>999993</th>\n",
       "      <td>4.846253</td>\n",
       "      <td>2.844450</td>\n",
       "      <td>0.867740</td>\n",
       "      <td>1.0</td>\n",
       "      <td>0.0</td>\n",
       "      <td>0.0</td>\n",
       "      <td>1.0</td>\n",
       "      <td>0.0</td>\n",
       "    </tr>\n",
       "    <tr>\n",
       "      <th>999994</th>\n",
       "      <td>3.295884</td>\n",
       "      <td>0.085712</td>\n",
       "      <td>0.831991</td>\n",
       "      <td>1.0</td>\n",
       "      <td>0.0</td>\n",
       "      <td>0.0</td>\n",
       "      <td>1.0</td>\n",
       "      <td>0.0</td>\n",
       "    </tr>\n",
       "    <tr>\n",
       "      <th>999998</th>\n",
       "      <td>4.258729</td>\n",
       "      <td>0.242023</td>\n",
       "      <td>0.475822</td>\n",
       "      <td>1.0</td>\n",
       "      <td>0.0</td>\n",
       "      <td>0.0</td>\n",
       "      <td>1.0</td>\n",
       "      <td>0.0</td>\n",
       "    </tr>\n",
       "  </tbody>\n",
       "</table>\n",
       "<p>649601 rows × 8 columns</p>\n",
       "</div>"
      ],
      "text/plain": [
       "        distance_from_home  distance_from_last_transaction   \n",
       "1                10.829943                        0.175592  \\\n",
       "2                 5.091079                        0.805153   \n",
       "5                 5.586408                       13.261073   \n",
       "6                 3.724019                        0.956838   \n",
       "7                 4.848247                        0.320735   \n",
       "...                    ...                             ...   \n",
       "999991           26.807213                        0.102574   \n",
       "999992            9.844674                        0.250108   \n",
       "999993            4.846253                        2.844450   \n",
       "999994            3.295884                        0.085712   \n",
       "999998            4.258729                        0.242023   \n",
       "\n",
       "        ratio_to_median_purchase_price  repeat_retailer  used_chip   \n",
       "1                             1.294219              1.0        0.0  \\\n",
       "2                             0.427715              1.0        0.0   \n",
       "5                             0.064768              1.0        0.0   \n",
       "6                             0.278465              1.0        0.0   \n",
       "7                             1.273050              1.0        0.0   \n",
       "...                                ...              ...        ...   \n",
       "999991                        2.746114              1.0        0.0   \n",
       "999992                        0.814046              1.0        0.0   \n",
       "999993                        0.867740              1.0        0.0   \n",
       "999994                        0.831991              1.0        0.0   \n",
       "999998                        0.475822              1.0        0.0   \n",
       "\n",
       "        used_pin_number  online_order  fraud  \n",
       "1                   0.0           0.0    0.0  \n",
       "2                   0.0           1.0    0.0  \n",
       "5                   0.0           0.0    0.0  \n",
       "6                   0.0           1.0    0.0  \n",
       "7                   1.0           0.0    0.0  \n",
       "...                 ...           ...    ...  \n",
       "999991              0.0           1.0    0.0  \n",
       "999992              0.0           1.0    0.0  \n",
       "999993              0.0           1.0    0.0  \n",
       "999994              0.0           1.0    0.0  \n",
       "999998              0.0           1.0    0.0  \n",
       "\n",
       "[649601 rows x 8 columns]"
      ]
     },
     "execution_count": 13,
     "metadata": {},
     "output_type": "execute_result"
    }
   ],
   "source": [
    "df_pin"
   ]
  },
  {
   "cell_type": "code",
   "execution_count": 14,
   "id": "16e6c4e9-8e32-4cd8-a2ea-9a4455899160",
   "metadata": {},
   "outputs": [],
   "source": [
    "df_chip = df[df['used_chip'] == 1]"
   ]
  },
  {
   "cell_type": "code",
   "execution_count": 15,
   "id": "1d4062b2-4dbc-47cd-8684-15116b11fd24",
   "metadata": {},
   "outputs": [
    {
     "data": {
      "text/html": [
       "<div>\n",
       "<style scoped>\n",
       "    .dataframe tbody tr th:only-of-type {\n",
       "        vertical-align: middle;\n",
       "    }\n",
       "\n",
       "    .dataframe tbody tr th {\n",
       "        vertical-align: top;\n",
       "    }\n",
       "\n",
       "    .dataframe thead th {\n",
       "        text-align: right;\n",
       "    }\n",
       "</style>\n",
       "<table border=\"1\" class=\"dataframe\">\n",
       "  <thead>\n",
       "    <tr style=\"text-align: right;\">\n",
       "      <th></th>\n",
       "      <th>distance_from_home</th>\n",
       "      <th>distance_from_last_transaction</th>\n",
       "      <th>ratio_to_median_purchase_price</th>\n",
       "      <th>repeat_retailer</th>\n",
       "      <th>used_chip</th>\n",
       "      <th>used_pin_number</th>\n",
       "      <th>online_order</th>\n",
       "      <th>fraud</th>\n",
       "    </tr>\n",
       "  </thead>\n",
       "  <tbody>\n",
       "    <tr>\n",
       "      <th>0</th>\n",
       "      <td>57.877857</td>\n",
       "      <td>0.311140</td>\n",
       "      <td>1.945940</td>\n",
       "      <td>1.0</td>\n",
       "      <td>1.0</td>\n",
       "      <td>0.0</td>\n",
       "      <td>0.0</td>\n",
       "      <td>0.0</td>\n",
       "    </tr>\n",
       "    <tr>\n",
       "      <th>3</th>\n",
       "      <td>2.247564</td>\n",
       "      <td>5.600044</td>\n",
       "      <td>0.362663</td>\n",
       "      <td>1.0</td>\n",
       "      <td>1.0</td>\n",
       "      <td>0.0</td>\n",
       "      <td>1.0</td>\n",
       "      <td>0.0</td>\n",
       "    </tr>\n",
       "    <tr>\n",
       "      <th>4</th>\n",
       "      <td>44.190936</td>\n",
       "      <td>0.566486</td>\n",
       "      <td>2.222767</td>\n",
       "      <td>1.0</td>\n",
       "      <td>1.0</td>\n",
       "      <td>0.0</td>\n",
       "      <td>1.0</td>\n",
       "      <td>0.0</td>\n",
       "    </tr>\n",
       "    <tr>\n",
       "      <th>10</th>\n",
       "      <td>14.263530</td>\n",
       "      <td>0.158758</td>\n",
       "      <td>1.136102</td>\n",
       "      <td>1.0</td>\n",
       "      <td>1.0</td>\n",
       "      <td>0.0</td>\n",
       "      <td>1.0</td>\n",
       "      <td>0.0</td>\n",
       "    </tr>\n",
       "    <tr>\n",
       "      <th>11</th>\n",
       "      <td>13.592368</td>\n",
       "      <td>0.240540</td>\n",
       "      <td>1.370330</td>\n",
       "      <td>1.0</td>\n",
       "      <td>1.0</td>\n",
       "      <td>0.0</td>\n",
       "      <td>1.0</td>\n",
       "      <td>0.0</td>\n",
       "    </tr>\n",
       "    <tr>\n",
       "      <th>...</th>\n",
       "      <td>...</td>\n",
       "      <td>...</td>\n",
       "      <td>...</td>\n",
       "      <td>...</td>\n",
       "      <td>...</td>\n",
       "      <td>...</td>\n",
       "      <td>...</td>\n",
       "      <td>...</td>\n",
       "    </tr>\n",
       "    <tr>\n",
       "      <th>999990</th>\n",
       "      <td>20.334489</td>\n",
       "      <td>11.437333</td>\n",
       "      <td>0.699527</td>\n",
       "      <td>1.0</td>\n",
       "      <td>1.0</td>\n",
       "      <td>0.0</td>\n",
       "      <td>1.0</td>\n",
       "      <td>0.0</td>\n",
       "    </tr>\n",
       "    <tr>\n",
       "      <th>999995</th>\n",
       "      <td>2.207101</td>\n",
       "      <td>0.112651</td>\n",
       "      <td>1.626798</td>\n",
       "      <td>1.0</td>\n",
       "      <td>1.0</td>\n",
       "      <td>0.0</td>\n",
       "      <td>0.0</td>\n",
       "      <td>0.0</td>\n",
       "    </tr>\n",
       "    <tr>\n",
       "      <th>999996</th>\n",
       "      <td>19.872726</td>\n",
       "      <td>2.683904</td>\n",
       "      <td>2.778303</td>\n",
       "      <td>1.0</td>\n",
       "      <td>1.0</td>\n",
       "      <td>0.0</td>\n",
       "      <td>0.0</td>\n",
       "      <td>0.0</td>\n",
       "    </tr>\n",
       "    <tr>\n",
       "      <th>999997</th>\n",
       "      <td>2.914857</td>\n",
       "      <td>1.472687</td>\n",
       "      <td>0.218075</td>\n",
       "      <td>1.0</td>\n",
       "      <td>1.0</td>\n",
       "      <td>0.0</td>\n",
       "      <td>1.0</td>\n",
       "      <td>0.0</td>\n",
       "    </tr>\n",
       "    <tr>\n",
       "      <th>999999</th>\n",
       "      <td>58.108125</td>\n",
       "      <td>0.318110</td>\n",
       "      <td>0.386920</td>\n",
       "      <td>1.0</td>\n",
       "      <td>1.0</td>\n",
       "      <td>0.0</td>\n",
       "      <td>1.0</td>\n",
       "      <td>0.0</td>\n",
       "    </tr>\n",
       "  </tbody>\n",
       "</table>\n",
       "<p>350399 rows × 8 columns</p>\n",
       "</div>"
      ],
      "text/plain": [
       "        distance_from_home  distance_from_last_transaction   \n",
       "0                57.877857                        0.311140  \\\n",
       "3                 2.247564                        5.600044   \n",
       "4                44.190936                        0.566486   \n",
       "10               14.263530                        0.158758   \n",
       "11               13.592368                        0.240540   \n",
       "...                    ...                             ...   \n",
       "999990           20.334489                       11.437333   \n",
       "999995            2.207101                        0.112651   \n",
       "999996           19.872726                        2.683904   \n",
       "999997            2.914857                        1.472687   \n",
       "999999           58.108125                        0.318110   \n",
       "\n",
       "        ratio_to_median_purchase_price  repeat_retailer  used_chip   \n",
       "0                             1.945940              1.0        1.0  \\\n",
       "3                             0.362663              1.0        1.0   \n",
       "4                             2.222767              1.0        1.0   \n",
       "10                            1.136102              1.0        1.0   \n",
       "11                            1.370330              1.0        1.0   \n",
       "...                                ...              ...        ...   \n",
       "999990                        0.699527              1.0        1.0   \n",
       "999995                        1.626798              1.0        1.0   \n",
       "999996                        2.778303              1.0        1.0   \n",
       "999997                        0.218075              1.0        1.0   \n",
       "999999                        0.386920              1.0        1.0   \n",
       "\n",
       "        used_pin_number  online_order  fraud  \n",
       "0                   0.0           0.0    0.0  \n",
       "3                   0.0           1.0    0.0  \n",
       "4                   0.0           1.0    0.0  \n",
       "10                  0.0           1.0    0.0  \n",
       "11                  0.0           1.0    0.0  \n",
       "...                 ...           ...    ...  \n",
       "999990              0.0           1.0    0.0  \n",
       "999995              0.0           0.0    0.0  \n",
       "999996              0.0           0.0    0.0  \n",
       "999997              0.0           1.0    0.0  \n",
       "999999              0.0           1.0    0.0  \n",
       "\n",
       "[350399 rows x 8 columns]"
      ]
     },
     "execution_count": 15,
     "metadata": {},
     "output_type": "execute_result"
    }
   ],
   "source": [
    "df_chip"
   ]
  },
  {
   "cell_type": "code",
   "execution_count": 16,
   "id": "c2f6147b-cb4e-49d2-9768-9a89a369841f",
   "metadata": {},
   "outputs": [],
   "source": [
    "DFH_pin = df_pin['distance_from_home'].mean()"
   ]
  },
  {
   "cell_type": "code",
   "execution_count": 17,
   "id": "d9c6caea-e51b-4e26-88b1-8af6801d4dec",
   "metadata": {},
   "outputs": [],
   "source": [
    "DFLT_pin = df_pin['distance_from_last_transaction'].mean()"
   ]
  },
  {
   "cell_type": "code",
   "execution_count": 18,
   "id": "04b38e6d-0993-4c64-86ad-f8cabb02a9fa",
   "metadata": {},
   "outputs": [],
   "source": [
    "OO_pin = df_pin[df_pin['online_order']==1].shape[0]\n",
    "total_rows = df_pin.shape[0]"
   ]
  },
  {
   "cell_type": "code",
   "execution_count": 19,
   "id": "6aeb78c9-fdd0-402c-a1ff-cbc20e25edfb",
   "metadata": {},
   "outputs": [],
   "source": [
    "OO_pin_per = (OO_pin / total_rows) * 100"
   ]
  },
  {
   "cell_type": "code",
   "execution_count": 20,
   "id": "3d3fc998-35ba-4f34-81a0-8dba762b11af",
   "metadata": {},
   "outputs": [],
   "source": [
    "fraud_pin = df_pin[df_pin['fraud']==1].shape[0]"
   ]
  },
  {
   "cell_type": "code",
   "execution_count": 21,
   "id": "a94f80f9-cfbe-467f-946e-e549a8473597",
   "metadata": {},
   "outputs": [],
   "source": [
    "fraud_pin_per = (fraud_pin/total_rows) * 100"
   ]
  },
  {
   "cell_type": "code",
   "execution_count": 22,
   "id": "831a5f6b-6b12-437d-a92b-79b74d132ef0",
   "metadata": {},
   "outputs": [],
   "source": [
    "DFH_chip = df_chip['distance_from_home'].mean()"
   ]
  },
  {
   "cell_type": "code",
   "execution_count": 23,
   "id": "3fbc7261-432f-47d9-a89a-86c6e811dde3",
   "metadata": {},
   "outputs": [],
   "source": [
    "DFLT_chip = df_chip['distance_from_last_transaction'].mean()"
   ]
  },
  {
   "cell_type": "code",
   "execution_count": 24,
   "id": "86c1daee-acc7-40f1-abb6-380feff96e0a",
   "metadata": {},
   "outputs": [],
   "source": [
    "OO_chip = df_chip[df_chip['online_order']==1].shape[0]\n",
    "total_rows_chip = df_chip.shape[0]"
   ]
  },
  {
   "cell_type": "code",
   "execution_count": 25,
   "id": "8b89f080-42f0-4796-b761-cb8af1f360ec",
   "metadata": {},
   "outputs": [],
   "source": [
    "OO_chip_per = (OO_chip / total_rows_chip) * 100"
   ]
  },
  {
   "cell_type": "code",
   "execution_count": 26,
   "id": "338c8341-193d-47d5-9458-f23fdeeaba7b",
   "metadata": {},
   "outputs": [],
   "source": [
    "fraud_chip = df_chip[df_chip['fraud']==1].shape[0]\n",
    "fraud_chip_per = (fraud_chip/total_rows_chip) * 100"
   ]
  },
  {
   "cell_type": "code",
   "execution_count": 27,
   "id": "640ecfb3-3bc3-44c5-9eed-50f7089c049c",
   "metadata": {},
   "outputs": [],
   "source": [
    "final_df_data = [[DFH_pin,DFH_chip],[DFLT_pin,DFLT_chip],[OO_pin_per,OO_chip_per],[fraud_pin_per,fraud_chip_per]]"
   ]
  },
  {
   "cell_type": "code",
   "execution_count": 28,
   "id": "dd4ea921-637b-4159-b2f1-06d8ed507e91",
   "metadata": {},
   "outputs": [],
   "source": [
    "columns = [\"Used Pin\", \"Used Chip\"]\n",
    "rows = [\"DFH\", \"DFLT\", \"OO\", \"Fraud\"]"
   ]
  },
  {
   "cell_type": "code",
   "execution_count": 29,
   "id": "bdf81451-4de0-470d-8646-53eff6c93cdc",
   "metadata": {},
   "outputs": [],
   "source": [
    "final_df = pd.DataFrame(final_df_data,columns=columns,index=rows)"
   ]
  },
  {
   "cell_type": "code",
   "execution_count": 30,
   "id": "46af687f-563e-435b-b43f-ed019331d43c",
   "metadata": {},
   "outputs": [
    {
     "data": {
      "text/html": [
       "<div>\n",
       "<style scoped>\n",
       "    .dataframe tbody tr th:only-of-type {\n",
       "        vertical-align: middle;\n",
       "    }\n",
       "\n",
       "    .dataframe tbody tr th {\n",
       "        vertical-align: top;\n",
       "    }\n",
       "\n",
       "    .dataframe thead th {\n",
       "        text-align: right;\n",
       "    }\n",
       "</style>\n",
       "<table border=\"1\" class=\"dataframe\">\n",
       "  <thead>\n",
       "    <tr style=\"text-align: right;\">\n",
       "      <th></th>\n",
       "      <th>Used Pin</th>\n",
       "      <th>Used Chip</th>\n",
       "    </tr>\n",
       "  </thead>\n",
       "  <tbody>\n",
       "    <tr>\n",
       "      <th>DFH</th>\n",
       "      <td>26.662269</td>\n",
       "      <td>26.566729</td>\n",
       "    </tr>\n",
       "    <tr>\n",
       "      <th>DFLT</th>\n",
       "      <td>4.997518</td>\n",
       "      <td>5.108824</td>\n",
       "    </tr>\n",
       "    <tr>\n",
       "      <th>OO</th>\n",
       "      <td>65.062862</td>\n",
       "      <td>65.040996</td>\n",
       "    </tr>\n",
       "    <tr>\n",
       "      <th>Fraud</th>\n",
       "      <td>10.005065</td>\n",
       "      <td>6.395566</td>\n",
       "    </tr>\n",
       "  </tbody>\n",
       "</table>\n",
       "</div>"
      ],
      "text/plain": [
       "        Used Pin  Used Chip\n",
       "DFH    26.662269  26.566729\n",
       "DFLT    4.997518   5.108824\n",
       "OO     65.062862  65.040996\n",
       "Fraud  10.005065   6.395566"
      ]
     },
     "execution_count": 30,
     "metadata": {},
     "output_type": "execute_result"
    }
   ],
   "source": [
    "final_df\n"
   ]
  },
  {
   "cell_type": "code",
   "execution_count": 31,
   "id": "a9093e3b-6e46-4d88-89c9-3d3820300ca8",
   "metadata": {},
   "outputs": [],
   "source": [
    "final_df.to_csv('initial_datastory.csv',index=False)"
   ]
  },
  {
   "cell_type": "code",
   "execution_count": 32,
   "id": "bb34e244-bb38-42a2-91c6-b4daf73891ab",
   "metadata": {},
   "outputs": [],
   "source": [
    "DFH_pin_min = df_pin['distance_from_home'].min()"
   ]
  },
  {
   "cell_type": "code",
   "execution_count": 33,
   "id": "21561b2f-bbd5-436e-ad1b-af586501b978",
   "metadata": {},
   "outputs": [],
   "source": [
    "DFH_pin_max = df_pin['distance_from_home'].max()"
   ]
  },
  {
   "cell_type": "code",
   "execution_count": 34,
   "id": "17a2ec80-2da3-473a-8b33-9e20d417fb8a",
   "metadata": {},
   "outputs": [],
   "source": [
    "DFH_chip_min = df_chip['distance_from_home'].min()"
   ]
  },
  {
   "cell_type": "code",
   "execution_count": 35,
   "id": "5e56a29a-e5d7-4ef9-b609-cb9d85a966ca",
   "metadata": {},
   "outputs": [],
   "source": [
    "DFH_chip_max = df_chip['distance_from_home'].max()"
   ]
  },
  {
   "cell_type": "code",
   "execution_count": 36,
   "id": "7bfe95d8-86b3-4ff4-8a9d-636ac34c2e94",
   "metadata": {},
   "outputs": [],
   "source": [
    "DFLT_pin_min = df_pin['distance_from_last_transaction'].min()"
   ]
  },
  {
   "cell_type": "code",
   "execution_count": 37,
   "id": "d6e6d78f-6e97-4063-a4b3-a5f7353f3498",
   "metadata": {},
   "outputs": [],
   "source": [
    "DFLT_pin_max = df_pin['distance_from_last_transaction'].max()"
   ]
  },
  {
   "cell_type": "code",
   "execution_count": 38,
   "id": "73df0f50-85ba-4a37-8229-b17534aae7b4",
   "metadata": {},
   "outputs": [],
   "source": [
    "DFLT_chip_min = df_chip['distance_from_last_transaction'].min()"
   ]
  },
  {
   "cell_type": "code",
   "execution_count": 40,
   "id": "ce24867b-2fe7-44f0-a299-df66301bac14",
   "metadata": {},
   "outputs": [],
   "source": [
    "DFLT_chip_max = df_chip['distance_from_last_transaction'].max()"
   ]
  },
  {
   "cell_type": "code",
   "execution_count": 42,
   "id": "87d1aa15-09f3-44b2-9d31-dd8ef96a9921",
   "metadata": {},
   "outputs": [],
   "source": [
    "DFH_df_data = [[DFH_pin_min,DFH_chip_min],[DFH_pin_max,DFH_chip_max]]"
   ]
  },
  {
   "cell_type": "code",
   "execution_count": 44,
   "id": "4fe61ec9-2676-4de7-84a0-1e09e2ebaa20",
   "metadata": {},
   "outputs": [],
   "source": [
    "columns = [\"Used Pin\", \"Used Chip\"]\n",
    "rows = [\"Min\", \"Max\"]"
   ]
  },
  {
   "cell_type": "code",
   "execution_count": 46,
   "id": "c219d147-16d7-4a28-b683-cda50526c6af",
   "metadata": {},
   "outputs": [],
   "source": [
    "DFH_data_df = pd.DataFrame(DFH_df_data,columns=columns,index=rows)"
   ]
  },
  {
   "cell_type": "code",
   "execution_count": 47,
   "id": "296ecd24-867f-4cb5-8d40-05492d255536",
   "metadata": {},
   "outputs": [],
   "source": [
    "DFLT_df_data = [[DFLT_pin_min,DFLT_chip_min],[DFLT_pin_max,DFLT_chip_max]]"
   ]
  },
  {
   "cell_type": "code",
   "execution_count": 48,
   "id": "f592b81a-4091-406a-a08a-f090da703c8e",
   "metadata": {},
   "outputs": [],
   "source": [
    "DFLT_data_df = pd.DataFrame(DFLT_df_data,columns=columns,index=rows)"
   ]
  },
  {
   "cell_type": "code",
   "execution_count": 49,
   "id": "6f63e8e6-6573-4fc9-ba34-ac595274605a",
   "metadata": {},
   "outputs": [
    {
     "data": {
      "text/html": [
       "<div>\n",
       "<style scoped>\n",
       "    .dataframe tbody tr th:only-of-type {\n",
       "        vertical-align: middle;\n",
       "    }\n",
       "\n",
       "    .dataframe tbody tr th {\n",
       "        vertical-align: top;\n",
       "    }\n",
       "\n",
       "    .dataframe thead th {\n",
       "        text-align: right;\n",
       "    }\n",
       "</style>\n",
       "<table border=\"1\" class=\"dataframe\">\n",
       "  <thead>\n",
       "    <tr style=\"text-align: right;\">\n",
       "      <th></th>\n",
       "      <th>Used Pin</th>\n",
       "      <th>Used Chip</th>\n",
       "    </tr>\n",
       "  </thead>\n",
       "  <tbody>\n",
       "    <tr>\n",
       "      <th>Min</th>\n",
       "      <td>0.004874</td>\n",
       "      <td>0.024144</td>\n",
       "    </tr>\n",
       "    <tr>\n",
       "      <th>Max</th>\n",
       "      <td>10632.723672</td>\n",
       "      <td>4601.011222</td>\n",
       "    </tr>\n",
       "  </tbody>\n",
       "</table>\n",
       "</div>"
      ],
      "text/plain": [
       "         Used Pin    Used Chip\n",
       "Min      0.004874     0.024144\n",
       "Max  10632.723672  4601.011222"
      ]
     },
     "execution_count": 49,
     "metadata": {},
     "output_type": "execute_result"
    }
   ],
   "source": [
    "DFH_data_df"
   ]
  },
  {
   "cell_type": "code",
   "execution_count": 50,
   "id": "5f441e66-b240-473c-bf86-f92237005e73",
   "metadata": {},
   "outputs": [
    {
     "data": {
      "text/html": [
       "<div>\n",
       "<style scoped>\n",
       "    .dataframe tbody tr th:only-of-type {\n",
       "        vertical-align: middle;\n",
       "    }\n",
       "\n",
       "    .dataframe tbody tr th {\n",
       "        vertical-align: top;\n",
       "    }\n",
       "\n",
       "    .dataframe thead th {\n",
       "        text-align: right;\n",
       "    }\n",
       "</style>\n",
       "<table border=\"1\" class=\"dataframe\">\n",
       "  <thead>\n",
       "    <tr style=\"text-align: right;\">\n",
       "      <th></th>\n",
       "      <th>Used Pin</th>\n",
       "      <th>Used Chip</th>\n",
       "    </tr>\n",
       "  </thead>\n",
       "  <tbody>\n",
       "    <tr>\n",
       "      <th>Min</th>\n",
       "      <td>0.000118</td>\n",
       "      <td>0.000419</td>\n",
       "    </tr>\n",
       "    <tr>\n",
       "      <th>Max</th>\n",
       "      <td>2938.197853</td>\n",
       "      <td>11851.104565</td>\n",
       "    </tr>\n",
       "  </tbody>\n",
       "</table>\n",
       "</div>"
      ],
      "text/plain": [
       "        Used Pin     Used Chip\n",
       "Min     0.000118      0.000419\n",
       "Max  2938.197853  11851.104565"
      ]
     },
     "execution_count": 50,
     "metadata": {},
     "output_type": "execute_result"
    }
   ],
   "source": [
    "DFLT_data_df"
   ]
  },
  {
   "cell_type": "code",
   "execution_count": 51,
   "id": "0b1975d8-de67-48c6-bd32-7a6810aa36f4",
   "metadata": {},
   "outputs": [],
   "source": [
    "DFLT_df_data = [[DFLT_pin_min,DFLT_chip_min],[DFLT_pin_max,DFLT_chip_max],[DFLT_pin,DFLT_chip]]\n",
    "DFH_df_data = [[DFH_pin_min,DFH_chip_min],[DFH_pin_max,DFH_chip_max],[DFH_pin,DFH_chip]]"
   ]
  },
  {
   "cell_type": "code",
   "execution_count": 52,
   "id": "4ef26fe1-80bd-4f3c-be24-41904924fbfd",
   "metadata": {},
   "outputs": [],
   "source": [
    "columns = [\"Used Pin\", \"Used Chip\"]\n",
    "rows = [\"Min\", \"Max\",\"Avg\"]"
   ]
  },
  {
   "cell_type": "code",
   "execution_count": 53,
   "id": "b8e422f5-bf93-4eaa-b0f6-857335df2dd4",
   "metadata": {},
   "outputs": [],
   "source": [
    "DFH_data_df = pd.DataFrame(DFH_df_data,columns=columns,index=rows)\n",
    "DFLT_data_df = pd.DataFrame(DFLT_df_data,columns=columns,index=rows)"
   ]
  },
  {
   "cell_type": "code",
   "execution_count": 54,
   "id": "d9d7bcb6-ed55-4acc-82ae-6de1d47c6b43",
   "metadata": {},
   "outputs": [
    {
     "data": {
      "text/html": [
       "<div>\n",
       "<style scoped>\n",
       "    .dataframe tbody tr th:only-of-type {\n",
       "        vertical-align: middle;\n",
       "    }\n",
       "\n",
       "    .dataframe tbody tr th {\n",
       "        vertical-align: top;\n",
       "    }\n",
       "\n",
       "    .dataframe thead th {\n",
       "        text-align: right;\n",
       "    }\n",
       "</style>\n",
       "<table border=\"1\" class=\"dataframe\">\n",
       "  <thead>\n",
       "    <tr style=\"text-align: right;\">\n",
       "      <th></th>\n",
       "      <th>Used Pin</th>\n",
       "      <th>Used Chip</th>\n",
       "    </tr>\n",
       "  </thead>\n",
       "  <tbody>\n",
       "    <tr>\n",
       "      <th>Min</th>\n",
       "      <td>0.004874</td>\n",
       "      <td>0.024144</td>\n",
       "    </tr>\n",
       "    <tr>\n",
       "      <th>Max</th>\n",
       "      <td>10632.723672</td>\n",
       "      <td>4601.011222</td>\n",
       "    </tr>\n",
       "    <tr>\n",
       "      <th>Avg</th>\n",
       "      <td>26.662269</td>\n",
       "      <td>26.566729</td>\n",
       "    </tr>\n",
       "  </tbody>\n",
       "</table>\n",
       "</div>"
      ],
      "text/plain": [
       "         Used Pin    Used Chip\n",
       "Min      0.004874     0.024144\n",
       "Max  10632.723672  4601.011222\n",
       "Avg     26.662269    26.566729"
      ]
     },
     "execution_count": 54,
     "metadata": {},
     "output_type": "execute_result"
    }
   ],
   "source": [
    "DFH_data_df"
   ]
  },
  {
   "cell_type": "code",
   "execution_count": 55,
   "id": "ca705504-ef08-416d-83f1-5dfe8951d15b",
   "metadata": {},
   "outputs": [
    {
     "data": {
      "text/html": [
       "<div>\n",
       "<style scoped>\n",
       "    .dataframe tbody tr th:only-of-type {\n",
       "        vertical-align: middle;\n",
       "    }\n",
       "\n",
       "    .dataframe tbody tr th {\n",
       "        vertical-align: top;\n",
       "    }\n",
       "\n",
       "    .dataframe thead th {\n",
       "        text-align: right;\n",
       "    }\n",
       "</style>\n",
       "<table border=\"1\" class=\"dataframe\">\n",
       "  <thead>\n",
       "    <tr style=\"text-align: right;\">\n",
       "      <th></th>\n",
       "      <th>Used Pin</th>\n",
       "      <th>Used Chip</th>\n",
       "    </tr>\n",
       "  </thead>\n",
       "  <tbody>\n",
       "    <tr>\n",
       "      <th>Min</th>\n",
       "      <td>0.000118</td>\n",
       "      <td>0.000419</td>\n",
       "    </tr>\n",
       "    <tr>\n",
       "      <th>Max</th>\n",
       "      <td>2938.197853</td>\n",
       "      <td>11851.104565</td>\n",
       "    </tr>\n",
       "    <tr>\n",
       "      <th>Avg</th>\n",
       "      <td>4.997518</td>\n",
       "      <td>5.108824</td>\n",
       "    </tr>\n",
       "  </tbody>\n",
       "</table>\n",
       "</div>"
      ],
      "text/plain": [
       "        Used Pin     Used Chip\n",
       "Min     0.000118      0.000419\n",
       "Max  2938.197853  11851.104565\n",
       "Avg     4.997518      5.108824"
      ]
     },
     "execution_count": 55,
     "metadata": {},
     "output_type": "execute_result"
    }
   ],
   "source": [
    "DFLT_data_df"
   ]
  },
  {
   "cell_type": "code",
   "execution_count": 56,
   "id": "c5d90dad-6bcc-4507-bc38-cc72a80653b4",
   "metadata": {},
   "outputs": [],
   "source": [
    "final_df_data = [[OO_pin_per,OO_chip_per],[fraud_pin_per,fraud_chip_per]]"
   ]
  },
  {
   "cell_type": "code",
   "execution_count": 59,
   "id": "44425de5-dd70-4c9b-a4c9-4641ca67cfe5",
   "metadata": {},
   "outputs": [],
   "source": [
    "columns = [\"Used Pin\", \"Used Chip\"]\n",
    "rows = [\"OO\", \"Fraud\"]"
   ]
  },
  {
   "cell_type": "code",
   "execution_count": 60,
   "id": "91284c2b-dea0-4141-ac32-6b6f93e7806e",
   "metadata": {},
   "outputs": [],
   "source": [
    "final_df = pd.DataFrame(final_df_data,columns=columns,index=rows)"
   ]
  },
  {
   "cell_type": "code",
   "execution_count": 61,
   "id": "c1ab26f2-7a51-467d-af60-d88a9323f09a",
   "metadata": {},
   "outputs": [
    {
     "data": {
      "text/html": [
       "<div>\n",
       "<style scoped>\n",
       "    .dataframe tbody tr th:only-of-type {\n",
       "        vertical-align: middle;\n",
       "    }\n",
       "\n",
       "    .dataframe tbody tr th {\n",
       "        vertical-align: top;\n",
       "    }\n",
       "\n",
       "    .dataframe thead th {\n",
       "        text-align: right;\n",
       "    }\n",
       "</style>\n",
       "<table border=\"1\" class=\"dataframe\">\n",
       "  <thead>\n",
       "    <tr style=\"text-align: right;\">\n",
       "      <th></th>\n",
       "      <th>Used Pin</th>\n",
       "      <th>Used Chip</th>\n",
       "    </tr>\n",
       "  </thead>\n",
       "  <tbody>\n",
       "    <tr>\n",
       "      <th>OO</th>\n",
       "      <td>65.062862</td>\n",
       "      <td>65.040996</td>\n",
       "    </tr>\n",
       "    <tr>\n",
       "      <th>Fraud</th>\n",
       "      <td>10.005065</td>\n",
       "      <td>6.395566</td>\n",
       "    </tr>\n",
       "  </tbody>\n",
       "</table>\n",
       "</div>"
      ],
      "text/plain": [
       "        Used Pin  Used Chip\n",
       "OO     65.062862  65.040996\n",
       "Fraud  10.005065   6.395566"
      ]
     },
     "execution_count": 61,
     "metadata": {},
     "output_type": "execute_result"
    }
   ],
   "source": [
    "final_df"
   ]
  },
  {
   "cell_type": "code",
   "execution_count": 63,
   "id": "f6ade16f-5f7a-4bcf-a9b8-4b4896edfadb",
   "metadata": {},
   "outputs": [],
   "source": [
    "final_df.to_csv('OOandFraud_datastory.csv',index=False)"
   ]
  },
  {
   "cell_type": "code",
   "execution_count": 64,
   "id": "de3443c5-3e6f-4330-9d17-b35eed6a1bc2",
   "metadata": {},
   "outputs": [],
   "source": [
    "DFLT_data_df.to_csv('DFLT_datastory.csv',index=False)"
   ]
  },
  {
   "cell_type": "code",
   "execution_count": 65,
   "id": "bc8a15a4-55c6-4fe7-a654-c45d8af3edf9",
   "metadata": {},
   "outputs": [],
   "source": [
    "DFH_data_df.to_csv('DFH_datastory.csv',index=False)"
   ]
  },
  {
   "cell_type": "code",
   "execution_count": 66,
   "id": "6ccd1417-779c-4ca5-90f0-230b0fb8ae36",
   "metadata": {},
   "outputs": [],
   "source": [
    "Fraud_df_data = [[fraud_pin_per,fraud_chip_per]]\n",
    "OO_df_data = [[OO_pin_per,OO_chip_per]]"
   ]
  },
  {
   "cell_type": "code",
   "execution_count": 67,
   "id": "231d4a97-1c6e-4efa-98bf-617699aeba7f",
   "metadata": {},
   "outputs": [],
   "source": [
    "columns = [\"Used Pin\", \"Used Chip\"]\n",
    "rows = [\"OO\"]"
   ]
  },
  {
   "cell_type": "code",
   "execution_count": 68,
   "id": "e2d23e1c-f0d5-484c-a1a4-ca47043eae66",
   "metadata": {},
   "outputs": [],
   "source": [
    "OO_data_df = pd.DataFrame(OO_df_data,columns=columns,index=rows)"
   ]
  },
  {
   "cell_type": "code",
   "execution_count": 69,
   "id": "ede49b97-fac8-488c-9848-a0b8279c4821",
   "metadata": {},
   "outputs": [],
   "source": [
    "columns = [\"Used Pin\", \"Used Chip\"]\n",
    "rows = [\"Fraud\"]"
   ]
  },
  {
   "cell_type": "code",
   "execution_count": 70,
   "id": "337639ab-7793-450a-b699-c36780ad9b3a",
   "metadata": {},
   "outputs": [],
   "source": [
    "Fraud_data_df = pd.DataFrame(Fraud_df_data,columns=columns,index=rows)"
   ]
  },
  {
   "cell_type": "code",
   "execution_count": 71,
   "id": "750344e1-1a3f-4927-9f34-8898ccc98bea",
   "metadata": {},
   "outputs": [
    {
     "data": {
      "text/html": [
       "<div>\n",
       "<style scoped>\n",
       "    .dataframe tbody tr th:only-of-type {\n",
       "        vertical-align: middle;\n",
       "    }\n",
       "\n",
       "    .dataframe tbody tr th {\n",
       "        vertical-align: top;\n",
       "    }\n",
       "\n",
       "    .dataframe thead th {\n",
       "        text-align: right;\n",
       "    }\n",
       "</style>\n",
       "<table border=\"1\" class=\"dataframe\">\n",
       "  <thead>\n",
       "    <tr style=\"text-align: right;\">\n",
       "      <th></th>\n",
       "      <th>Used Pin</th>\n",
       "      <th>Used Chip</th>\n",
       "    </tr>\n",
       "  </thead>\n",
       "  <tbody>\n",
       "    <tr>\n",
       "      <th>OO</th>\n",
       "      <td>65.062862</td>\n",
       "      <td>65.040996</td>\n",
       "    </tr>\n",
       "  </tbody>\n",
       "</table>\n",
       "</div>"
      ],
      "text/plain": [
       "     Used Pin  Used Chip\n",
       "OO  65.062862  65.040996"
      ]
     },
     "execution_count": 71,
     "metadata": {},
     "output_type": "execute_result"
    }
   ],
   "source": [
    "OO_data_df"
   ]
  },
  {
   "cell_type": "code",
   "execution_count": 72,
   "id": "f458f2db-9144-49b8-a013-a5ecd36ea8d0",
   "metadata": {},
   "outputs": [
    {
     "data": {
      "text/html": [
       "<div>\n",
       "<style scoped>\n",
       "    .dataframe tbody tr th:only-of-type {\n",
       "        vertical-align: middle;\n",
       "    }\n",
       "\n",
       "    .dataframe tbody tr th {\n",
       "        vertical-align: top;\n",
       "    }\n",
       "\n",
       "    .dataframe thead th {\n",
       "        text-align: right;\n",
       "    }\n",
       "</style>\n",
       "<table border=\"1\" class=\"dataframe\">\n",
       "  <thead>\n",
       "    <tr style=\"text-align: right;\">\n",
       "      <th></th>\n",
       "      <th>Used Pin</th>\n",
       "      <th>Used Chip</th>\n",
       "    </tr>\n",
       "  </thead>\n",
       "  <tbody>\n",
       "    <tr>\n",
       "      <th>Fraud</th>\n",
       "      <td>10.005065</td>\n",
       "      <td>6.395566</td>\n",
       "    </tr>\n",
       "  </tbody>\n",
       "</table>\n",
       "</div>"
      ],
      "text/plain": [
       "        Used Pin  Used Chip\n",
       "Fraud  10.005065   6.395566"
      ]
     },
     "execution_count": 72,
     "metadata": {},
     "output_type": "execute_result"
    }
   ],
   "source": [
    "Fraud_data_df"
   ]
  },
  {
   "cell_type": "code",
   "execution_count": 73,
   "id": "0efddf9a-f2ff-4a37-9419-1131787881eb",
   "metadata": {},
   "outputs": [],
   "source": [
    "OO_data_df.to_csv('OO_datastory.csv',index=False)"
   ]
  },
  {
   "cell_type": "code",
   "execution_count": 74,
   "id": "48765de8-4392-4c9f-95ce-552cb1d03e21",
   "metadata": {},
   "outputs": [],
   "source": [
    "Fraud_data_df.to_csv('Fraud_datastory.csv',index=False)"
   ]
  },
  {
   "cell_type": "code",
   "execution_count": null,
   "id": "e73f7249-0252-4bea-a27c-c1b3da88d258",
   "metadata": {},
   "outputs": [],
   "source": []
  }
 ],
 "metadata": {
  "kernelspec": {
   "display_name": "Python 3 (ipykernel)",
   "language": "python",
   "name": "python3"
  },
  "language_info": {
   "codemirror_mode": {
    "name": "ipython",
    "version": 3
   },
   "file_extension": ".py",
   "mimetype": "text/x-python",
   "name": "python",
   "nbconvert_exporter": "python",
   "pygments_lexer": "ipython3",
   "version": "3.8.16"
  }
 },
 "nbformat": 4,
 "nbformat_minor": 5
}
