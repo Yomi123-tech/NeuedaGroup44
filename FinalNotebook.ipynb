{
 "cells": [
  {
   "cell_type": "code",
   "execution_count": null,
   "id": "d6e82887-01fb-4520-9a2e-52d1e85f57aa",
   "metadata": {},
   "outputs": [],
   "source": [
    "#Start out with clearning dataet"
   ]
  },
  {
   "cell_type": "code",
   "execution_count": null,
   "id": "dd55987c-ff55-43ae-bf97-9b24f25534c3",
   "metadata": {},
   "outputs": [],
   "source": [
    "#Show the dataframe"
   ]
  },
  {
   "cell_type": "code",
   "execution_count": null,
   "id": "e58cc5cb-ba3f-4cb1-975d-5976d33aa250",
   "metadata": {},
   "outputs": [],
   "source": [
    "#Start with major percentages based on fraud/no fraud"
   ]
  },
  {
   "cell_type": "code",
   "execution_count": null,
   "id": "2b16dd31-926a-40c7-9ce3-8acde16a889d",
   "metadata": {},
   "outputs": [],
   "source": [
    "#dive into card usage"
   ]
  },
  {
   "cell_type": "code",
   "execution_count": null,
   "id": "8b9394b6-37ce-4785-a350-8dde34b9b8e4",
   "metadata": {},
   "outputs": [],
   "source": [
    "#cond prob"
   ]
  },
  {
   "cell_type": "code",
   "execution_count": null,
   "id": "b5786047-1e40-4b0a-a956-52dd1feb839d",
   "metadata": {},
   "outputs": [],
   "source": [
    "#distance"
   ]
  },
  {
   "cell_type": "code",
   "execution_count": null,
   "id": "44db1500-118b-4d6e-8468-85ce046457ff",
   "metadata": {},
   "outputs": [],
   "source": [
    "#cross analysis"
   ]
  },
  {
   "cell_type": "code",
   "execution_count": null,
   "id": "6c88b1a2-fdbc-4df9-b96a-af2a732e110d",
   "metadata": {},
   "outputs": [],
   "source": [
    "#For each section, flip back and forth with the tableau dashboard"
   ]
  }
 ],
 "metadata": {
  "kernelspec": {
   "display_name": "Python 3 (ipykernel)",
   "language": "python",
   "name": "python3"
  },
  "language_info": {
   "codemirror_mode": {
    "name": "ipython",
    "version": 3
   },
   "file_extension": ".py",
   "mimetype": "text/x-python",
   "name": "python",
   "nbconvert_exporter": "python",
   "pygments_lexer": "ipython3",
   "version": "3.8.16"
  }
 },
 "nbformat": 4,
 "nbformat_minor": 5
}
